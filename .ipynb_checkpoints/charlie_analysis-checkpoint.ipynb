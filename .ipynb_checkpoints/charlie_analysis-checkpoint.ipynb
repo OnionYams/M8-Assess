{
 "cells": [
  {
   "cell_type": "code",
   "execution_count": 2,
   "id": "2f1da1de",
   "metadata": {},
   "outputs": [],
   "source": [
    "# imports\n",
    "import requests\n",
    "import pandas as pd\n",
    "import matplotlib.pyplot as plt"
   ]
  },
  {
   "cell_type": "code",
   "execution_count": 5,
   "id": "e01d24d8",
   "metadata": {},
   "outputs": [],
   "source": [
    "# BUILDING BASE URL\n",
    "url = 'https://api.census.gov/data'\n",
    "year = '2019'\n",
    "dataset = 'abscb' # CHANGE THIS TO CHANGE DATASET\n",
    "base_url = '/'.join([url, year, dataset])\n",
    "\n",
    "# FORMATTING API REQUEST\n",
    "predicates = {}\n",
    "get_vars = ['EMP', 'EMPSZFI', 'ETH_GROUP', 'GEO_ID', 'NAICS2017', 'STATE'] # CHANGE THIS TO CHANGE VARIABLES RECEIVED\n",
    "predicates['get'] = ','.join(get_vars)\n",
    "predicates['for'] = 'state:*' # CHANGE THIS TO CHANGE GEOGRAPHIC SCOPE\n",
    "predicates['key'] = '7c2c8ae1aefce7823680175cfa25d0ba300fe6f5' # DON'T CHANGE THIS\n",
    "response = requests.get(base_url, params=predicates)"
   ]
  },
  {
   "cell_type": "code",
   "execution_count": 6,
   "id": "c2a995a1",
   "metadata": {},
   "outputs": [
    {
     "data": {
      "text/plain": [
       "['EMP', 'EMPSZFI', 'ETH_GROUP', 'GEO_ID', 'NAICS2017', 'STATE', 'state']"
      ]
     },
     "execution_count": 6,
     "metadata": {},
     "output_type": "execute_result"
    }
   ],
   "source": [
    "response.json()[0]"
   ]
  },
  {
   "cell_type": "code",
   "execution_count": null,
   "id": "6e4b93af",
   "metadata": {},
   "outputs": [],
   "source": []
  }
 ],
 "metadata": {
  "kernelspec": {
   "display_name": "Python 3",
   "language": "python",
   "name": "python3"
  },
  "language_info": {
   "codemirror_mode": {
    "name": "ipython",
    "version": 3
   },
   "file_extension": ".py",
   "mimetype": "text/x-python",
   "name": "python",
   "nbconvert_exporter": "python",
   "pygments_lexer": "ipython3",
   "version": "3.9.7"
  }
 },
 "nbformat": 4,
 "nbformat_minor": 5
}
