{
 "cells": [
  {
   "cell_type": "code",
   "execution_count": 4,
   "id": "2f1da1de",
   "metadata": {},
   "outputs": [],
   "source": [
    "# imports\n",
    "import requests\n",
    "import pandas as pd\n",
    "import matplotlib.pyplot as plt"
   ]
  },
  {
   "cell_type": "code",
   "execution_count": 5,
   "id": "e01d24d8",
   "metadata": {},
   "outputs": [],
   "source": [
    "# BUILDING BASE URL\n",
    "url = 'https://api.census.gov/data'\n",
    "year = '2019'\n",
    "dataset = 'abscb' # CHANGE THIS TO CHANGE DATASET\n",
    "base_url = '/'.join([url, year, dataset])\n",
    "\n",
    "# FORMATTING API REQUEST\n",
    "predicates = {}\n",
    "get_vars = ['EMP', 'EMPSZFI', 'ETH_GROUP', 'GEO_ID', 'NAICS2017', 'STATE'] # CHANGE THIS TO CHANGE VARIABLES RECEIVED\n",
    "predicates['get'] = ','.join(get_vars)\n",
    "predicates['for'] = 'state:*' # CHANGE THIS TO CHANGE GEOGRAPHIC SCOPE\n",
    "predicates['key'] = '7c2c8ae1aefce7823680175cfa25d0ba300fe6f5' # DON'T CHANGE THIS\n",
    "response = requests.get(base_url, params=predicates)"
   ]
  },
  {
   "cell_type": "code",
   "execution_count": 8,
   "id": "c2a995a1",
   "metadata": {},
   "outputs": [],
   "source": [
    "resp_json = response.json()\n",
    "data = pd.DataFrame(resp_json[1:], columns=resp_json[0])"
   ]
  },
  {
   "cell_type": "code",
   "execution_count": 9,
   "id": "6e4b93af",
   "metadata": {},
   "outputs": [
    {
     "data": {
      "text/html": [
       "<div>\n",
       "<style scoped>\n",
       "    .dataframe tbody tr th:only-of-type {\n",
       "        vertical-align: middle;\n",
       "    }\n",
       "\n",
       "    .dataframe tbody tr th {\n",
       "        vertical-align: top;\n",
       "    }\n",
       "\n",
       "    .dataframe thead th {\n",
       "        text-align: right;\n",
       "    }\n",
       "</style>\n",
       "<table border=\"1\" class=\"dataframe\">\n",
       "  <thead>\n",
       "    <tr style=\"text-align: right;\">\n",
       "      <th></th>\n",
       "      <th>EMP</th>\n",
       "      <th>EMPSZFI</th>\n",
       "      <th>ETH_GROUP</th>\n",
       "      <th>GEO_ID</th>\n",
       "      <th>NAICS2017</th>\n",
       "      <th>STATE</th>\n",
       "      <th>state</th>\n",
       "    </tr>\n",
       "  </thead>\n",
       "  <tbody>\n",
       "    <tr>\n",
       "      <th>0</th>\n",
       "      <td>857405</td>\n",
       "      <td>001</td>\n",
       "      <td>001</td>\n",
       "      <td>0400000US28</td>\n",
       "      <td>00</td>\n",
       "      <td>28</td>\n",
       "      <td>28</td>\n",
       "    </tr>\n",
       "    <tr>\n",
       "      <th>1</th>\n",
       "      <td>2432195</td>\n",
       "      <td>001</td>\n",
       "      <td>001</td>\n",
       "      <td>0400000US29</td>\n",
       "      <td>00</td>\n",
       "      <td>29</td>\n",
       "      <td>29</td>\n",
       "    </tr>\n",
       "    <tr>\n",
       "      <th>2</th>\n",
       "      <td>368005</td>\n",
       "      <td>001</td>\n",
       "      <td>001</td>\n",
       "      <td>0400000US30</td>\n",
       "      <td>00</td>\n",
       "      <td>30</td>\n",
       "      <td>30</td>\n",
       "    </tr>\n",
       "    <tr>\n",
       "      <th>3</th>\n",
       "      <td>839188</td>\n",
       "      <td>001</td>\n",
       "      <td>001</td>\n",
       "      <td>0400000US31</td>\n",
       "      <td>00</td>\n",
       "      <td>31</td>\n",
       "      <td>31</td>\n",
       "    </tr>\n",
       "    <tr>\n",
       "      <th>4</th>\n",
       "      <td>1198057</td>\n",
       "      <td>001</td>\n",
       "      <td>001</td>\n",
       "      <td>0400000US32</td>\n",
       "      <td>00</td>\n",
       "      <td>32</td>\n",
       "      <td>32</td>\n",
       "    </tr>\n",
       "  </tbody>\n",
       "</table>\n",
       "</div>"
      ],
      "text/plain": [
       "       EMP EMPSZFI ETH_GROUP       GEO_ID NAICS2017 STATE state\n",
       "0   857405     001       001  0400000US28        00    28    28\n",
       "1  2432195     001       001  0400000US29        00    29    29\n",
       "2   368005     001       001  0400000US30        00    30    30\n",
       "3   839188     001       001  0400000US31        00    31    31\n",
       "4  1198057     001       001  0400000US32        00    32    32"
      ]
     },
     "execution_count": 9,
     "metadata": {},
     "output_type": "execute_result"
    }
   ],
   "source": [
    "data.head()"
   ]
  },
  {
   "cell_type": "code",
   "execution_count": null,
   "id": "5e143b7c",
   "metadata": {},
   "outputs": [],
   "source": []
  }
 ],
 "metadata": {
  "kernelspec": {
   "display_name": "Python 3",
   "language": "python",
   "name": "python3"
  },
  "language_info": {
   "codemirror_mode": {
    "name": "ipython",
    "version": 3
   },
   "file_extension": ".py",
   "mimetype": "text/x-python",
   "name": "python",
   "nbconvert_exporter": "python",
   "pygments_lexer": "ipython3",
   "version": "3.9.7"
  }
 },
 "nbformat": 4,
 "nbformat_minor": 5
}
